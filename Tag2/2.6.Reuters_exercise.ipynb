{
 "cells": [
  {
   "cell_type": "code",
   "execution_count": 1,
   "metadata": {},
   "outputs": [
    {
     "data": {
      "text/plain": [
       "'2.4.0'"
      ]
     },
     "execution_count": 1,
     "metadata": {},
     "output_type": "execute_result"
    }
   ],
   "source": [
    "import tensorflow as tf\n",
    "from tensorflow import keras\n",
    "keras.__version__"
   ]
  },
  {
   "cell_type": "code",
   "execution_count": null,
   "metadata": {},
   "outputs": [],
   "source": [
    "from tensorflow.keras.datasets import reuters\n",
    "(train_data, train_labels), (test_data, test_labels) = reuters.load_data(num_words=10000)"
   ]
  },
  {
   "cell_type": "markdown",
   "metadata": {},
   "source": [
    "Der Reuters-Datensatz ist ein Datensatz von Nachrichtenmeldungen, die sich in 46 verschiedene Themen einteilen lassen.\n",
    "\n",
    "Eure Aufgabe ist es, analog zum IMDB-Datensatz ein Modell für die Klassifizierung der Reutersmeldungen zu trainieren.\n",
    "\n",
    "* Schaut Euch eine dekodierte Meldung an.\n",
    "* Vektorisiert die Daten und Targets\n",
    "* Baut ein Modell: Vorsicht auf die Outputdimension = 46, activation nicht sigmoid sondern 'softmax', loss-function='categorical_crossentropy'\n",
    "* Spaltet ein Validationset ab und benutzt es im Training\n",
    "* Plottet Validation-Loss und Trainings-Loss um Overfitting zu diagnostizieren.\n",
    "* Wenn Ihr mit Eurem Model glücklich seid --> Evaluiert es auf dem Testset."
   ]
  },
  {
   "cell_type": "code",
   "execution_count": null,
   "metadata": {},
   "outputs": [],
   "source": []
  }
 ],
 "metadata": {
  "kernelspec": {
   "display_name": "Python 3 (ipykernel)",
   "language": "python",
   "name": "python3"
  },
  "language_info": {
   "codemirror_mode": {
    "name": "ipython",
    "version": 3
   },
   "file_extension": ".py",
   "mimetype": "text/x-python",
   "name": "python",
   "nbconvert_exporter": "python",
   "pygments_lexer": "ipython3",
   "version": "3.8.5"
  }
 },
 "nbformat": 4,
 "nbformat_minor": 2
}
